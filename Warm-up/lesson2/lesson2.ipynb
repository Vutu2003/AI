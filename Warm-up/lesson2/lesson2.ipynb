{
 "cells": [
  {
   "cell_type": "markdown",
   "id": "81d25d52-f2ad-437d-92cf-204fc6bff946",
   "metadata": {},
   "source": [
    "# LESSON2: PYTHON \n",
    "# DATA TYPES AND USER-DEFINED FUNCTIONS\n",
    "## OUTLINE:\n",
    "1. Built-in functions\n",
    "2. User-defined functions\n",
    "3. String & List in Python"
   ]
  },
  {
   "cell_type": "markdown",
   "id": "ebf09a26-1a0a-45b6-be19-e47e0177fbfc",
   "metadata": {},
   "source": [
    "# PART 1: BUILT-IN FUNCTIONS IN PYTHON"
   ]
  },
  {
   "cell_type": "markdown",
   "id": "2afb8dd1-59ac-48e0-9ec2-9d2fcffc34a2",
   "metadata": {},
   "source": [
    "## Math module\n"
   ]
  },
  {
   "cell_type": "code",
   "execution_count": 6,
   "id": "c5079462-fbe4-44fe-9cd5-28e8752950b8",
   "metadata": {},
   "outputs": [
    {
     "name": "stdout",
     "output_type": "stream",
     "text": [
      "1.0\n",
      "2.0\n",
      "1.3862943611198906\n",
      "1.0\n",
      "-0.7568024953079282\n",
      "54.598150033144236\n",
      "2.0\n",
      "-0.6536436208636119\n",
      "3.141592653589793\n"
     ]
    }
   ],
   "source": [
    "# absolute value of x\n",
    "import math\n",
    "n1 = 1\n",
    "n2 = -2\n",
    "\n",
    "print(math.fabs(n1))\n",
    "print(math.fabs(n2))\n",
    "\n",
    "#log(x)\n",
    "\n",
    "x = 4\n",
    "print(math.log(x))\n",
    "print(math.log(math.e))\n",
    "\n",
    "#sins of x\n",
    "\n",
    "print(math.sin(x))\n",
    "\n",
    "#the e number: math.e\n",
    "# exponential of x \n",
    "\n",
    "print(math.exp(x))\n",
    "\n",
    "# spare root of x\n",
    "print(math.sqrt(x))\n",
    "\n",
    "#consine of x\n",
    "print(math.cos(x))\n",
    "\n",
    "#the PI number\n",
    "print(math.pi)\n"
   ]
  },
  {
   "cell_type": "markdown",
   "id": "75cce287-fcc6-45e5-a910-511496cdfc80",
   "metadata": {},
   "source": [
    "# PART 2: USER-DEFINE FUNCTIONS"
   ]
  },
  {
   "cell_type": "code",
   "execution_count": 9,
   "id": "deb9b810-dff7-42f9-8132-054d923dee00",
   "metadata": {},
   "outputs": [
    {
     "name": "stdout",
     "output_type": "stream",
     "text": [
      "30\n"
     ]
    }
   ],
   "source": [
    "# ham tinh tong hai so\n",
    "def sum (a, b):\n",
    "    return a + b\n",
    "print(sum(10, 20))"
   ]
  },
  {
   "cell_type": "markdown",
   "id": "b4846a81-567c-4ec9-92c9-4ceaa257c934",
   "metadata": {},
   "source": [
    "# PART 3: STRING AND LIST IN PYTHON\n"
   ]
  },
  {
   "cell_type": "code",
   "execution_count": 24,
   "id": "93547f2f-997b-4c94-a6cf-de3b10d5f9c8",
   "metadata": {},
   "outputs": [
    {
     "name": "stdout",
     "output_type": "stream",
     "text": [
      "Vu Trinh Tu\n",
      "Hello AI VIETNAM. Have a nice day!\n",
      "Hello AI VIETNAM. Have a nice day!\n",
      "Hello AI VIETNAM\n",
      "Hello, AI VIETNAM\n",
      "AI VIETNAM, Hello\n",
      "Loss at the 5th iteration is 48.200000\n",
      "Hello Tu. Are you 22 years old ?\n"
     ]
    }
   ],
   "source": [
    "# STRING IN PYTHON\n",
    "first_name = \"Vu Trinh\"\n",
    "last_name = \" Tu\"\n",
    "print(first_name + last_name)\n",
    "\n",
    "# Insert into a string\n",
    "value1 = \"AI VIETNAM\"\n",
    "print(\"Hello %s. Have a nice day!\" % value1)\n",
    "print(\"Hello %s. Have a nice day!\" % (value1))\n",
    "value2 = \"Hello\"\n",
    "print(\"%s %s\" % (value2, value1))\n",
    "\n",
    "s1 = \"{n1}, {n2}\".format(n1 = value2, n2 = value1)\n",
    "s2 = \"{n1}, {n2}\".format(n1 = value1, n2 = value2)\n",
    "\n",
    "print(s1)\n",
    "print(s2)\n",
    "\n",
    "iteration = 5\n",
    "loss = 48.2\n",
    "print(\"Loss at the %dth iteration is %f\" %(iteration, loss))\n",
    "\n",
    "name = \"Tu\"\n",
    "age = \"22\"\n",
    "print(f'Hello {name}. Are you {age} years old ?')"
   ]
  },
  {
   "cell_type": "markdown",
   "id": "c86df38c-b47e-4f7a-b67d-78a892791269",
   "metadata": {},
   "source": [
    "# LIST IN PYTHON\n",
    "## A container that can contain elements\n",
    "## --> list_name = [element1, ..., element-n]"
   ]
  },
  {
   "cell_type": "code",
   "execution_count": 27,
   "id": "833673fa-78e4-4c8b-bc61-676f257da257",
   "metadata": {},
   "outputs": [
    {
     "data": {
      "image/png": "[encoded data removed]",
      "text/plain": [
       "<Figure size 640x480 with 1 Axes>"
      ]
     },
     "metadata": {},
     "output_type": "display_data"
    }
   ],
   "source": [
    "# A example use list to dram a graph (using matplotlib)\n",
    "import matplotlib.pyplot as plt\n",
    "\n",
    "#data\n",
    "x_data = [0, 1, 2, 3]\n",
    "y_data = [1, 3, 4, 2]\n",
    "\n",
    "#plot\n",
    "plt.plot(x_data, y_data)\n",
    "plt.ylabel('y values')\n",
    "plt.xlabel('x values')\n",
    "\n",
    "#show\n",
    "plt.show()"
   ]
  },
  {
   "cell_type": "code",
   "execution_count": 4,
   "id": "9606be0d-b194-47e9-8a6e-a9a95d2f472a",
   "metadata": {
    "editable": true,
    "slideshow": {
     "slide_type": ""
    },
    "tags": []
   },
   "outputs": [
    {
     "name": "stdout",
     "output_type": "stream",
     "text": [
      "y(x): 9.0\n",
      "Gradient of y w.r.t. x: 6.0\n"
     ]
    }
   ],
   "source": [
    "# Pytorch tensor\n",
    "# 1. gradient computation\n",
    "import torch\n",
    "\n",
    "# Create a tensor to compute gradients\n",
    "x = torch.tensor(3.0, requires_grad=True)\n",
    "\n",
    "# Operation\n",
    "y = x ** 2\n",
    "print(f'y(x): {y}')\n",
    "\n",
    "# Compute gradients\n",
    "y.backward()\n",
    "\n",
    "#Print the gradient, dz/dx at x=3.0\n",
    "print(f\"Gradient of y w.r.t. x: {x.grad}\")"
   ]
  },
  {
   "cell_type": "code",
   "execution_count": 2,
   "id": "6ccc194e-3fc4-4e74-bfed-bf13075fc446",
   "metadata": {
    "editable": true,
    "slideshow": {
     "slide_type": ""
    },
    "tags": []
   },
   "outputs": [
    {
     "name": "stdout",
     "output_type": "stream",
     "text": [
      "2.6.0+cpu\n"
     ]
    }
   ],
   "source": [
    "import torch\n",
    "print(torch.__version__)  # Check if installation was successful"
   ]
  },
  {
   "cell_type": "markdown",
   "id": "d02421a2-0225-461a-8654-f81e76df2ae2",
   "metadata": {},
   "source": [
    "# DERIVATIVE AND IT'S APPLICATIONS"
   ]
  },
  {
   "cell_type": "code",
   "execution_count": null,
   "id": "8aafda6b-6cbd-4be1-a12b-aee018ad21b3",
   "metadata": {},
   "outputs": [],
   "source": []
  }
 ],
 "metadata": {
  "kernelspec": {
   "display_name": "Python [conda env:base] *",
   "language": "python",
   "name": "conda-base-py"
  },
  "language_info": {
   "codemirror_mode": {
    "name": "ipython",
    "version": 3
   },
   "file_extension": ".py",
   "mimetype": "text/x-python",
   "name": "python",
   "nbconvert_exporter": "python",
   "pygments_lexer": "ipython3",
   "version": "3.12.7"
  }
 },
 "nbformat": 4,
 "nbformat_minor": 5
}
