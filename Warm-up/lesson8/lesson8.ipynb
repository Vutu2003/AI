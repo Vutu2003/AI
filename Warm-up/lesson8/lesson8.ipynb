{
 "cells": [
  {
   "cell_type": "markdown",
   "id": "b5b66517-fe24-4a72-a5e9-aab710c8e753",
   "metadata": {},
   "source": [
    "# BASIC LINEAR ALGEBRA AND ITS APPLICATIONS TO IMAGE DATA\n",
    "\n",
    "## OUTLINE:\n",
    "1. Changing Image illuminations\n",
    "2. Slicing in Numpy Arrays\n",
    "3. Cropping an Image region\n",
    "4. Dot product and its application\n",
    "5. Matrix transformation and its applications"
   ]
  },
  {
   "cell_type": "markdown",
   "id": "0a86fcd5-f63e-409e-854d-f9cefbd0251a",
   "metadata": {},
   "source": [
    "# I, CHANING IMAGE ILLUMINATIONS: BASIC OpenCV"
   ]
  },
  {
   "cell_type": "code",
   "execution_count": null,
   "id": "b616cbf3-8614-41c7-b8c0-e91ce6baa34e",
   "metadata": {},
   "outputs": [],
   "source": [
    "# read and display grayscale image\n",
    "import cv2\n",
    "import matplotlib.pyplot as plt\n",
    "\n",
    "# Load the image in grayscale\n",
    "image = cv2.imread(\"image.jpg\", cv2.IMREAD_GRAYSCALE)\n",
    "\n",
    "# Display using Matplotlib\n",
    "plt.imshow(image, cmap=\"gray\")\n",
    "plt.axis(\"off\")  # Hide axes\n",
    "plt.show()\n"
   ]
  },
  {
   "cell_type": "markdown",
   "id": "0d031ef3-f0ea-4faa-88a7-f6d312e475e4",
   "metadata": {},
   "source": [
    "# Increase the brightness of a grayscale image\n"
   ]
  },
  {
   "cell_type": "code",
   "execution_count": 21,
   "id": "940d3c30-dbc8-4c72-9f6e-a2fd109aad43",
   "metadata": {},
   "outputs": [
    {
     "name": "stdout",
     "output_type": "stream",
     "text": [
      "[[1 2 3]\n",
      " [4 5 6]\n",
      " [7 8 9]]\n",
      "[1 2 3 4 5 6 7 8 9]\n",
      "[[1 2 3]\n",
      " [4 5 6]\n",
      " [7 8 9]]\n",
      "[1 2 3 4 5 6 7 8 9]\n",
      "[[1]\n",
      " [2]\n",
      " [3]\n",
      " [4]\n",
      " [5]\n",
      " [6]\n",
      " [7]\n",
      " [8]\n",
      " [9]]\n"
     ]
    }
   ],
   "source": [
    "# Convert N-D matrix to 1D: use method flatten()\n",
    "import cv2\n",
    "import numpy as np\n",
    "grayscale_image = np.array(\n",
    "    [[1, 2, 3],\n",
    "     [4, 5, 6],\n",
    "     [7, 8, 9]],\n",
    "     dtype=np.uint8\n",
    ")\n",
    "print(grayscale_image)\n",
    "aList = grayscale_image.flatten()\n",
    "print(aList)\n",
    "print(grayscale_image)\n",
    "# Convert 1D to N-D\n",
    "new_arr = aList.reshape((9, 1))\n",
    "print(aList)\n",
    "print(new_arr)"
   ]
  },
  {
   "cell_type": "code",
   "execution_count": 28,
   "id": "2d6eac52-a5f6-4125-b33e-2958b9e8a96c",
   "metadata": {},
   "outputs": [],
   "source": [
    "# Increase the brightness of a grayscale image\n",
    "\n",
    "def increase_brightness_customize(image_path, brightness_value, output_path):\n",
    "    # Step1: Read image\n",
    "    image = cv2.imread(image_path, cv2.IMREAD_GRAYSCALE)\n",
    "\n",
    "    # Step2: Convert the image to a 10 list (flattened array)\n",
    "    flattened_image = image.flatten()\n",
    "\n",
    "    # Step3: Increase the brightness in the 1D list using a for loop\n",
    "    brightened_1d = []\n",
    "    for pixel_value in flattened_image:\n",
    "        # Increase brightness and ensure pixel values are between 0 and 255\n",
    "        brightened_pixel = pixel_value + brightness_value\n",
    "        brightened_1d.append(np.clip(brightened_pixel, 0, 255))\n",
    "\n",
    "    # Step4: Reshape the 1D list back to the original grayscale image shape\n",
    "    brightened_image = np.array(brightened_1d).reshape(image.shape)\n",
    "\n",
    "    # Save\n",
    "    cv2.imwrite(output_path, brightened_image)\n",
    "    return brightened_image\n",
    "\n",
    "def increase_brightness_customizev2(image_path, brightness_value, output_path):\n",
    "    img = cv2.imread(image_path, cv2.IMREAD_GRAYSCALE)\n",
    "    img = img.astype(float)\n",
    "\n",
    "    img = img + brightness_value\n",
    "    img = np.where(img < 0., 0., img)\n",
    "    img = np.where(img > 255.,255., img)\n",
    "\n",
    "    img = img.astype(np.uint8)\n",
    "    cv2.imwrite(output_path, img)\n",
    "# Main function\n",
    "input_image_path = \"image.jpg\"\n",
    "output_image_path = \"image_brightness.jpg\"\n",
    "brightness_increase = -50\n",
    "increase_brightness_customizev2(input_image_path, brightness_increase, output_image_path)"
   ]
  },
  {
   "cell_type": "markdown",
   "id": "6a6c4d17-9ec3-482f-a39d-c05df21887c3",
   "metadata": {},
   "source": [
    "# NUMPY IN IMAGE DATA"
   ]
  },
  {
   "cell_type": "code",
   "execution_count": null,
   "id": "e9eaed9f-295c-45c7-9dbe-667e08c9b8ad",
   "metadata": {},
   "outputs": [],
   "source": []
  }
 ],
 "metadata": {
  "kernelspec": {
   "display_name": "Python [conda env:base] *",
   "language": "python",
   "name": "conda-base-py"
  },
  "language_info": {
   "codemirror_mode": {
    "name": "ipython",
    "version": 3
   },
   "file_extension": ".py",
   "mimetype": "text/x-python",
   "name": "python",
   "nbconvert_exporter": "python",
   "pygments_lexer": "ipython3",
   "version": "3.12.7"
  }
 },
 "nbformat": 4,
 "nbformat_minor": 5
}
