{
 "cells": [
  {
   "cell_type": "markdown",
   "id": "4b15d5d6-ea23-458b-a152-e1811b8345e7",
   "metadata": {},
   "source": [
    "# LIST ALGORITHMS: IMPROVING PROGRAMMING SKILLS"
   ]
  },
  {
   "cell_type": "code",
   "execution_count": 6,
   "id": "30cbb6fc-c5c2-433d-8101-57fb2de94744",
   "metadata": {},
   "outputs": [
    {
     "name": "stdout",
     "output_type": "stream",
     "text": [
      "6\n"
     ]
    }
   ],
   "source": [
    "# Declare a list in python\n",
    "data = [6, 5, 6, 43, 2, 13,12,2]\n",
    "print(data[0])"
   ]
  },
  {
   "cell_type": "markdown",
   "id": "b423c050-40fa-4b7d-bd25-4c31ceaf4255",
   "metadata": {},
   "source": [
    "# Built-in functions for list: \n",
    "1. len()\n",
    "2. max()\n",
    "3. min()\n",
    "4. sum()\n",
    "5. sorted()\n",
    "6. list()\n",
    "7. any()\n",
    "8. all()\n",
    "9. enumerate()\n",
    "    "
   ]
  },
  {
   "cell_type": "code",
   "execution_count": 15,
   "id": "462df558-668a-4d01-a2f6-9cd90965c24d",
   "metadata": {},
   "outputs": [
    {
     "name": "stdout",
     "output_type": "stream",
     "text": [
      "len of data:  8\n",
      "Max of data:  43\n",
      "Min of data:  2\n",
      "6\n",
      "5\n",
      "6\n",
      "43\n",
      "2\n",
      "13\n",
      "12\n",
      "2\n",
      "6\n",
      "5\n",
      "6\n",
      "43\n",
      "2\n",
      "13\n",
      "12\n",
      "2\n"
     ]
    }
   ],
   "source": [
    "print(\"len of data: \", len(data))\n",
    "print(\"Max of data: \", max(data))\n",
    "print(\"Min of data: \", min(data))\n",
    "\n",
    "# For loop \n",
    "for x in data:\n",
    "    print(x)\n",
    "# Or\n",
    "for i in range(len(data)):\n",
    "    print(data[i])"
   ]
  }
 ],
 "metadata": {
  "kernelspec": {
   "display_name": "Python [conda env:base] *",
   "language": "python",
   "name": "conda-base-py"
  },
  "language_info": {
   "codemirror_mode": {
    "name": "ipython",
    "version": 3
   },
   "file_extension": ".py",
   "mimetype": "text/x-python",
   "name": "python",
   "nbconvert_exporter": "python",
   "pygments_lexer": "ipython3",
   "version": "3.12.7"
  }
 },
 "nbformat": 4,
 "nbformat_minor": 5
}
