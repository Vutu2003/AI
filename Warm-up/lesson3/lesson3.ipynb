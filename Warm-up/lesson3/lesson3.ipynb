{
 "cells": [
  {
   "cell_type": "markdown",
   "id": "335021c1-5406-47ca-b367-8bb669408c42",
   "metadata": {},
   "source": [
    "# SELECTION OF FUNCTIONS FOR DIFFERENT TARGETS\n",
    "## OUTLINE:\n",
    "1. Exponential functions\n",
    "2. Logarithm functions\n",
    "3. Function design"
   ]
  },
  {
   "cell_type": "markdown",
   "id": "73c6482f-6d55-41b8-8c51-63fb64372aae",
   "metadata": {},
   "source": [
    "d"
   ]
  },
  {
   "cell_type": "code",
   "execution_count": null,
   "id": "1df2a718-def4-4e98-ac88-0f4cd207d61c",
   "metadata": {},
   "outputs": [],
   "source": []
  }
 ],
 "metadata": {
  "kernelspec": {
   "display_name": "Python [conda env:base] *",
   "language": "python",
   "name": "conda-base-py"
  },
  "language_info": {
   "codemirror_mode": {
    "name": "ipython",
    "version": 3
   },
   "file_extension": ".py",
   "mimetype": "text/x-python",
   "name": "python",
   "nbconvert_exporter": "python",
   "pygments_lexer": "ipython3",
   "version": "3.12.7"
  }
 },
 "nbformat": 4,
 "nbformat_minor": 5
}
