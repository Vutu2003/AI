{
 "cells": [
  {
   "cell_type": "markdown",
   "id": "afe90449-db5d-4cad-b8d9-7070c4cbdc99",
   "metadata": {},
   "source": [
    "# IMAGE DATA AND NUMPY\n",
    "## OUTLINE\n",
    "\n",
    "### NUMPY:\n",
    "1. Numpy array creation\n",
    "2. Indexing\n",
    "3. Slicing\n",
    "4. Where function\n",
    "\n",
    "### Matrix operations:\n",
    "1. Addtion\n",
    "2. Subtraction\n",
    "3. Multiplication\n",
    "4. Division\n",
    "\n",
    "### Vector operations:\n",
    "1. Addtion\n",
    "2. Subtraction\n",
    "3. Multiplication\n",
    "4. Division\n",
    "\n",
    "### Image data:\n",
    "1. Image applications: Read/Write an image, Copy an image\n",
    "2. Background Subtraction"
   ]
  },
  {
   "cell_type": "markdown",
   "id": "ac5d73af-c2c0-4356-a690-d8df90dae504",
   "metadata": {},
   "source": [
    "# NUMPY IN PYTHON"
   ]
  },
  {
   "cell_type": "code",
   "execution_count": 9,
   "id": "ce31f265-9111-4515-9d9d-8ec6b4c1cd0d",
   "metadata": {},
   "outputs": [
    {
     "name": "stdout",
     "output_type": "stream",
     "text": [
      "[1 2 3]\n",
      "[0. 0. 0. 0.]\n",
      "[1 3]\n",
      "[0.30748642 0.3357895  0.92906778]\n",
      "[0.30748642 0.3357895  0.92906778]\n",
      "[[ 1.  2.  3.]\n",
      " [ 1. 43.  5.]]\n",
      "[[0. 0. 0.]\n",
      " [0. 0. 0.]]\n",
      "[[2. 2. 2. 2.]]\n"
     ]
    }
   ],
   "source": [
    "# Numpy array creation\n",
    "import numpy as np\n",
    "arr = np.array([1, 2, 3])\n",
    "print(arr)\n",
    "\n",
    "arr = np.zeros(4)\n",
    "print(arr)\n",
    "\n",
    "arr = np.arange(1, 4, 2)\n",
    "print(arr)\n",
    "\n",
    "arr = np.random.rand(3)\n",
    "print(arr)\n",
    "\n",
    "arr = np.empty(3)\n",
    "print(arr)\n",
    "\n",
    "arr = np.array([[1, 2, 3], [1, 43, 5]], dtype=float)\n",
    "print(arr)\n",
    "\n",
    "arr = np.zeros((2, 3))\n",
    "print(arr)\n",
    "\n",
    "arr = np.full((1, 4), (2.0))\n",
    "print(arr)\n",
    "\n"
   ]
  },
  {
   "cell_type": "code",
   "execution_count": 17,
   "id": "3721a283-7d2d-49eb-a4ee-88cf519d8f1e",
   "metadata": {},
   "outputs": [
    {
     "name": "stdout",
     "output_type": "stream",
     "text": [
      "[['odd' 'even' 'odd' 'even']\n",
      " ['odd' 'even' 'odd' 'even']]\n",
      "[[ 1  2  3  4]\n",
      " [15 16 17 18]]\n",
      "[[-1 -1 -1 -1]\n",
      " [-1  6  7  8]]\n"
     ]
    }
   ],
   "source": [
    "# Where function in numpy: np.where(condition, x, y)\n",
    "arr = np.array([\n",
    "    [1, 2, 3, 4],\n",
    "    [5, 6, 7, 8]\n",
    "])\n",
    "print(np.where(arr % 2 == 0, 'even', 'odd'))\n",
    "print(np.where(arr < 5, arr, arr + 10))\n",
    "print(np.where(arr > 5, arr, -1))"
   ]
  },
  {
   "cell_type": "markdown",
   "id": "f7c0a9bc-a256-42ee-a2e1-2039487a7749",
   "metadata": {},
   "source": [
    "# VECTOR OPERATIONS"
   ]
  },
  {
   "cell_type": "code",
   "execution_count": 32,
   "id": "f0a9cf8e-70dd-4876-bcd7-3e34ec94a38c",
   "metadata": {},
   "outputs": [
    {
     "name": "stdout",
     "output_type": "stream",
     "text": [
      "[1 2 3]\n",
      "[4 5 6]\n",
      "[5 7 9]\n",
      "[5 7 9]\n",
      "[-3 -3 -3]\n",
      "[-3 -3 -3]\n",
      "[0.25 0.4  0.5 ]\n",
      "[0.25 0.4  0.5 ]\n",
      "[ 4 10 18]\n",
      "[ 4 10 18]\n"
     ]
    }
   ],
   "source": [
    "list1 = [1, 2, 3]\n",
    "vector1 = np.array(list1)\n",
    "print(vector1)\n",
    "vector2 = np.array([4, 5, 6])\n",
    "print(vector2)\n",
    "\n",
    "# Vector addition\n",
    "print(vector1 + vector2)\n",
    "print(np.add(vector1, vector2))\n",
    "\n",
    "# Vector subtraction\n",
    "print(vector1 - vector2)\n",
    "print(np.subtract(vector1, vector2))\n",
    "\n",
    "# Vector division\n",
    "print(vector1 / vector2)\n",
    "print(np.divide(vector1, vector2))\n",
    "\n",
    "# Vector multi\n",
    "print(vector1 * vector2)\n",
    "print(np.multiply(vector1, vector2))"
   ]
  },
  {
   "cell_type": "markdown",
   "id": "c4efee2c-8f69-44dc-9e24-d7297a9776d3",
   "metadata": {},
   "source": [
    "# MATRIX OPERATIONS"
   ]
  },
  {
   "cell_type": "code",
   "execution_count": 51,
   "id": "d2dfa1f5-3caa-4824-9286-8da33af9ed24",
   "metadata": {},
   "outputs": [
    {
     "name": "stdout",
     "output_type": "stream",
     "text": [
      "[[1 2]\n",
      " [3 4]]\n",
      "[[0.23531137 0.99852444]\n",
      " [0.31060057 0.32244126]]\n",
      "[[1.23531137 2.99852444]\n",
      " [3.31060057 4.32244126]]\n",
      "[[1.23531137 2.99852444]\n",
      " [3.31060057 4.32244126]]\n",
      "[[0.76468863 1.00147556]\n",
      " [2.68939943 3.67755874]]\n",
      "[[0.76468863 1.00147556]\n",
      " [2.68939943 3.67755874]]\n",
      "[[ 4.24968844  2.00295548]\n",
      " [ 9.65870724 12.40536019]]\n",
      "[[ 4.24968844  2.00295548]\n",
      " [ 9.65870724 12.40536019]]\n",
      "[[0.23531137 1.99704888]\n",
      " [0.93180172 1.28976505]]\n",
      "[[0.23531137 1.99704888]\n",
      " [0.93180172 1.28976505]]\n"
     ]
    }
   ],
   "source": [
    "# Create a matrix\n",
    "matrix1 = np.array([[1, 2], [3, 4]])\n",
    "print(matrix1)\n",
    "\n",
    "matrix2 = np.random.rand(2,2)\n",
    "print(matrix2)\n",
    "\n",
    "# Matrix addition\n",
    "print(matrix1 + matrix2)\n",
    "print(np.add(matrix1, matrix2))\n",
    "\n",
    "# Matrix subtraction\n",
    "print(matrix1 - matrix2)\n",
    "print(np.subtract(matrix1, matrix2))\n",
    "\n",
    "# Matrix division\n",
    "print(matrix1 / matrix2)\n",
    "print(np.divide(matrix1, matrix2))\n",
    "\n",
    "# Matrix multiply\n",
    "print(matrix1 * matrix2)\n",
    "print(np.multiply(matrix1, matrix2))"
   ]
  },
  {
   "cell_type": "markdown",
   "id": "01f2bc3c-a859-4c41-8cb2-4a04b8d93be2",
   "metadata": {},
   "source": [
    "# IMAGE DATA IN PYTHON\n",
    "\n",
    "# BASIC OpenCV\n"
   ]
  },
  {
   "cell_type": "code",
   "execution_count": 63,
   "id": "64d764c8-bf8b-4a0d-b7ca-8a117dacd40c",
   "metadata": {},
   "outputs": [
    {
     "name": "stdout",
     "output_type": "stream",
     "text": [
      "(162, 311, 3)\n"
     ]
    },
    {
     "data": {
      "text/plain": [
       "True"
      ]
     },
     "execution_count": 63,
     "metadata": {},
     "output_type": "execute_result"
    }
   ],
   "source": [
    "# Load an image using OpenCV\n",
    "import cv2\n",
    "\n",
    "# read a grayscale image\n",
    "data = cv2.imread('download.jpg', 1)\n",
    "print(data.shape)\n"
   ]
  },
  {
   "cell_type": "code",
   "execution_count": 66,
   "id": "f786206d-b127-4447-8035-d5fb054df544",
   "metadata": {},
   "outputs": [
    {
     "data": {
      "text/plain": [
       "True"
      ]
     },
     "execution_count": 66,
     "metadata": {},
     "output_type": "execute_result"
    }
   ],
   "source": [
    "# Copy an image\n",
    "image = cv2.imread('naruto.jpg', 1)\n",
    "height, width, channel = image.shape\n",
    "\n",
    "# Create an array\n",
    "array_shape = (height, width, channel)\n",
    "copy_image = np.zeros(array_shape)\n",
    "\n",
    "# Copy\n",
    "for i in range(height):\n",
    "    for j in range(width):\n",
    "        for k in range(channel):\n",
    "            copy_image[i][j][k] = image[i][j][k]\n",
    "# Save an image from a list\n",
    "cv2.imwrite('copy.jpg', np.array(copy_image))\n",
    "    "
   ]
  },
  {
   "cell_type": "code",
   "execution_count": 8,
   "id": "059283e4-86d6-4809-95a8-941b68381fbf",
   "metadata": {},
   "outputs": [
    {
     "name": "stdout",
     "output_type": "stream",
     "text": [
      "[[4 5 7 8]\n",
      " [4 4 6 7]\n",
      " [3 3 4 4]\n",
      " [2 2 3 3]]\n"
     ]
    }
   ],
   "source": [
    "# BACKGROUND SUBTRACTION\n",
    "## Extract background/foreground\n",
    "import cv2\n",
    "import numpy as np\n",
    "\n",
    "# Resize image (OpenCV)\n",
    "original_matrix = np.array(\n",
    "    [[4, 8],\n",
    "     [2, 3]],\n",
    "    dtype=np.uint8\n",
    ")\n",
    "# Resize with cv2.INTER_LINEAR\n",
    "resized_matrix = cv2.resize(original_matrix, (4, 4),\n",
    "                            interpolation=cv2.INTER_LINEAR)\n",
    "print(resized_matrix)\n",
    "\n",
    "# Absolute difference in OpenCV\n",
    "\n"
   ]
  },
  {
   "cell_type": "code",
   "execution_count": 18,
   "id": "8a447b82-b169-45cb-b2b4-d39a9c29228b",
   "metadata": {},
   "outputs": [
    {
     "name": "stdout",
     "output_type": "stream",
     "text": [
      "[[ 0  0  0  0]\n",
      " [ 0 20 11  0]\n",
      " [ 0  0  0  0]]\n"
     ]
    },
    {
     "data": {
      "text/plain": [
       "array([[  0,   0,   0,   0],\n",
       "       [  0, 255,   0,   0],\n",
       "       [  0,   0,   0,   0]], dtype=uint8)"
      ]
     },
     "execution_count": 18,
     "metadata": {},
     "output_type": "execute_result"
    }
   ],
   "source": [
    "# Absolute difference in OpenCV\n",
    "matrix_A = np.array(\n",
    "    [[4, 8, 5, 6],\n",
    "     [2, 28, 15, 5],\n",
    "     [3, 5, 2, 5]],\n",
    "    dtype=np.uint8\n",
    ")\n",
    "\n",
    "matrix_B = np.array(\n",
    "    [[4, 8, 5, 6],\n",
    "     [2, 8, 4, 5],\n",
    "     [3, 5, 2, 5]],\n",
    "    dtype=np.uint8\n",
    ")\n",
    "difference = cv2.absdiff(matrix_A, matrix_B)\n",
    "print(difference)\n",
    "\n",
    "# Simple thresholding in OpenCV\n",
    "_,difference_binary = cv2.threshold(\n",
    "    difference, 15, 255, cv2.THRESH_BINARY\n",
    ")\n",
    "difference_binary"
   ]
  },
  {
   "cell_type": "code",
   "execution_count": 39,
   "id": "f156684d-352a-4007-9d2c-6dacacf34cdc",
   "metadata": {},
   "outputs": [
    {
     "name": "stdout",
     "output_type": "stream",
     "text": [
      "[[[147 159 161]\n",
      "  [147 159 161]\n",
      "  [147 159 161]\n",
      "  ...\n",
      "  [162 174 178]\n",
      "  [162 174 178]\n",
      "  [162 174 178]]\n",
      "\n",
      " [[147 159 161]\n",
      "  [147 159 161]\n",
      "  [147 159 161]\n",
      "  ...\n",
      "  [162 174 178]\n",
      "  [162 174 178]\n",
      "  [162 174 178]]\n",
      "\n",
      " [[147 159 161]\n",
      "  [147 159 161]\n",
      "  [147 159 161]\n",
      "  ...\n",
      "  [162 174 178]\n",
      "  [162 174 178]\n",
      "  [162 174 178]]\n",
      "\n",
      " ...\n",
      "\n",
      " [[132 139 142]\n",
      "  [132 139 142]\n",
      "  [132 139 142]\n",
      "  ...\n",
      "  [152 158 163]\n",
      "  [152 158 163]\n",
      "  [152 158 163]]\n",
      "\n",
      " [[132 139 142]\n",
      "  [132 139 142]\n",
      "  [132 139 142]\n",
      "  ...\n",
      "  [153 159 164]\n",
      "  [153 159 164]\n",
      "  [153 159 164]]\n",
      "\n",
      " [[132 139 142]\n",
      "  [132 139 142]\n",
      "  [132 139 142]\n",
      "  ...\n",
      "  [153 159 164]\n",
      "  [154 160 165]\n",
      "  [154 160 165]]]\n",
      "[[[217 226 223]\n",
      "  [216 225 222]\n",
      "  [216 225 222]\n",
      "  ...\n",
      "  [192 201 198]\n",
      "  [192 201 198]\n",
      "  [192 201 198]]\n",
      "\n",
      " [[215 224 221]\n",
      "  [215 224 221]\n",
      "  [215 224 221]\n",
      "  ...\n",
      "  [192 201 198]\n",
      "  [192 201 198]\n",
      "  [192 201 198]]\n",
      "\n",
      " [[215 224 221]\n",
      "  [214 223 220]\n",
      "  [214 223 220]\n",
      "  ...\n",
      "  [192 201 198]\n",
      "  [192 201 198]\n",
      "  [192 201 198]]\n",
      "\n",
      " ...\n",
      "\n",
      " [[ 54  54  54]\n",
      "  [ 57  57  57]\n",
      "  [ 61  61  61]\n",
      "  ...\n",
      "  [ 70  70  70]\n",
      "  [ 69  69  69]\n",
      "  [ 64  64  64]]\n",
      "\n",
      " [[ 53  53  53]\n",
      "  [ 56  56  56]\n",
      "  [ 61  61  61]\n",
      "  ...\n",
      "  [ 74  74  74]\n",
      "  [ 75  75  75]\n",
      "  [ 71  71  71]]\n",
      "\n",
      " [[ 53  53  53]\n",
      "  [ 56  56  56]\n",
      "  [ 60  60  60]\n",
      "  ...\n",
      "  [ 73  73  73]\n",
      "  [ 75  75  75]\n",
      "  [ 73  73  73]]]\n"
     ]
    },
    {
     "data": {
      "text/plain": [
       "True"
      ]
     },
     "execution_count": 39,
     "metadata": {},
     "output_type": "execute_result"
    }
   ],
   "source": [
    "# Extract background/foreground\n",
    "\n",
    "bg = cv2.imread('background.jpg', 1)\n",
    "print(bg)\n",
    "bg = cv2.resize(bg, (500, 480))\n",
    "\n",
    "img = cv2.imread('image.jpg', 1)\n",
    "print(img)\n",
    "img = cv2.resize(img, (500, 480))\n",
    "\n",
    "difference = cv2.absdiff(bg, img)\n",
    "_, difference_binary = cv2.threshold(\n",
    "    difference, 100, 255, cv2.THRESH_BINARY)\n",
    "\n",
    "new_bg = cv2.imread('fake_background.jpg')\n",
    "new_bg = cv2.resize(new_bg, (500, 480))\n",
    "\n",
    "output = np.where(difference_binary==0, new_bg, img)\n",
    "cv2.imwrite('output.jpg', output)"
   ]
  }
 ],
 "metadata": {
  "kernelspec": {
   "display_name": "Python [conda env:base] *",
   "language": "python",
   "name": "conda-base-py"
  },
  "language_info": {
   "codemirror_mode": {
    "name": "ipython",
    "version": 3
   },
   "file_extension": ".py",
   "mimetype": "text/x-python",
   "name": "python",
   "nbconvert_exporter": "python",
   "pygments_lexer": "ipython3",
   "version": "3.12.7"
  }
 },
 "nbformat": 4,
 "nbformat_minor": 5
}
