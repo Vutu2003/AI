{
 "cells": [
  {
   "cell_type": "markdown",
   "id": "afe90449-db5d-4cad-b8d9-7070c4cbdc99",
   "metadata": {},
   "source": [
    "# IMAGE DATA AND NUMPY\n",
    "## OUTLINE\n",
    "\n",
    "### NUMPY:\n",
    "1. Numpy array creation\n",
    "2. Indexing\n",
    "3. Slicing\n",
    "4. Where function\n",
    "\n",
    "### Matrix operations:\n",
    "1. Addtion\n",
    "2. Subtraction\n",
    "3. Multiplication\n",
    "4. Division\n",
    "\n",
    "### Vector operations:\n",
    "1. Addtion\n",
    "2. Subtraction\n",
    "3. Multiplication\n",
    "4. Division\n",
    "\n",
    "### Image data:\n",
    "1. Image applications: Read/Write an image, Copy an image\n",
    "2. Background Subtraction"
   ]
  },
  {
   "cell_type": "markdown",
   "id": "ac5d73af-c2c0-4356-a690-d8df90dae504",
   "metadata": {},
   "source": [
    "# NUMPY IN PYTHON"
   ]
  },
  {
   "cell_type": "code",
   "execution_count": 9,
   "id": "ce31f265-9111-4515-9d9d-8ec6b4c1cd0d",
   "metadata": {},
   "outputs": [
    {
     "name": "stdout",
     "output_type": "stream",
     "text": [
      "[1 2 3]\n",
      "[0. 0. 0. 0.]\n",
      "[1 3]\n",
      "[0.30748642 0.3357895  0.92906778]\n",
      "[0.30748642 0.3357895  0.92906778]\n",
      "[[ 1.  2.  3.]\n",
      " [ 1. 43.  5.]]\n",
      "[[0. 0. 0.]\n",
      " [0. 0. 0.]]\n",
      "[[2. 2. 2. 2.]]\n"
     ]
    }
   ],
   "source": [
    "# Numpy array creation\n",
    "import numpy as np\n",
    "arr = np.array([1, 2, 3])\n",
    "print(arr)\n",
    "\n",
    "arr = np.zeros(4)\n",
    "print(arr)\n",
    "\n",
    "arr = np.arange(1, 4, 2)\n",
    "print(arr)\n",
    "\n",
    "arr = np.random.rand(3)\n",
    "print(arr)\n",
    "\n",
    "arr = np.empty(3)\n",
    "print(arr)\n",
    "\n",
    "arr = np.array([[1, 2, 3], [1, 43, 5]], dtype=float)\n",
    "print(arr)\n",
    "\n",
    "arr = np.zeros((2, 3))\n",
    "print(arr)\n",
    "\n",
    "arr = np.full((1, 4), (2.0))\n",
    "print(arr)\n",
    "\n"
   ]
  },
  {
   "cell_type": "code",
   "execution_count": 17,
   "id": "3721a283-7d2d-49eb-a4ee-88cf519d8f1e",
   "metadata": {},
   "outputs": [
    {
     "name": "stdout",
     "output_type": "stream",
     "text": [
      "[['odd' 'even' 'odd' 'even']\n",
      " ['odd' 'even' 'odd' 'even']]\n",
      "[[ 1  2  3  4]\n",
      " [15 16 17 18]]\n",
      "[[-1 -1 -1 -1]\n",
      " [-1  6  7  8]]\n"
     ]
    }
   ],
   "source": [
    "# Where function in numpy: np.where(condition, x, y)\n",
    "arr = np.array([\n",
    "    [1, 2, 3, 4],\n",
    "    [5, 6, 7, 8]\n",
    "])\n",
    "print(np.where(arr % 2 == 0, 'even', 'odd'))\n",
    "print(np.where(arr < 5, arr, arr + 10))\n",
    "print(np.where(arr > 5, arr, -1))"
   ]
  },
  {
   "cell_type": "markdown",
   "id": "f7c0a9bc-a256-42ee-a2e1-2039487a7749",
   "metadata": {},
   "source": [
    "# VECTOR OPERATIONS"
   ]
  },
  {
   "cell_type": "code",
   "execution_count": 32,
   "id": "f0a9cf8e-70dd-4876-bcd7-3e34ec94a38c",
   "metadata": {},
   "outputs": [
    {
     "name": "stdout",
     "output_type": "stream",
     "text": [
      "[1 2 3]\n",
      "[4 5 6]\n",
      "[5 7 9]\n",
      "[5 7 9]\n",
      "[-3 -3 -3]\n",
      "[-3 -3 -3]\n",
      "[0.25 0.4  0.5 ]\n",
      "[0.25 0.4  0.5 ]\n",
      "[ 4 10 18]\n",
      "[ 4 10 18]\n"
     ]
    }
   ],
   "source": [
    "list1 = [1, 2, 3]\n",
    "vector1 = np.array(list1)\n",
    "print(vector1)\n",
    "vector2 = np.array([4, 5, 6])\n",
    "print(vector2)\n",
    "\n",
    "# Vector addition\n",
    "print(vector1 + vector2)\n",
    "print(np.add(vector1, vector2))\n",
    "\n",
    "# Vector subtraction\n",
    "print(vector1 - vector2)\n",
    "print(np.subtract(vector1, vector2))\n",
    "\n",
    "# Vector division\n",
    "print(vector1 / vector2)\n",
    "print(np.divide(vector1, vector2))\n",
    "\n",
    "# Vector multi\n",
    "print(vector1 * vector2)\n",
    "print(np.multiply(vector1, vector2))"
   ]
  },
  {
   "cell_type": "markdown",
   "id": "c4efee2c-8f69-44dc-9e24-d7297a9776d3",
   "metadata": {},
   "source": [
    "# MATRIX OPERATIONS"
   ]
  },
  {
   "cell_type": "code",
   "execution_count": 51,
   "id": "d2dfa1f5-3caa-4824-9286-8da33af9ed24",
   "metadata": {},
   "outputs": [
    {
     "name": "stdout",
     "output_type": "stream",
     "text": [
      "[[1 2]\n",
      " [3 4]]\n",
      "[[0.23531137 0.99852444]\n",
      " [0.31060057 0.32244126]]\n",
      "[[1.23531137 2.99852444]\n",
      " [3.31060057 4.32244126]]\n",
      "[[1.23531137 2.99852444]\n",
      " [3.31060057 4.32244126]]\n",
      "[[0.76468863 1.00147556]\n",
      " [2.68939943 3.67755874]]\n",
      "[[0.76468863 1.00147556]\n",
      " [2.68939943 3.67755874]]\n",
      "[[ 4.24968844  2.00295548]\n",
      " [ 9.65870724 12.40536019]]\n",
      "[[ 4.24968844  2.00295548]\n",
      " [ 9.65870724 12.40536019]]\n",
      "[[0.23531137 1.99704888]\n",
      " [0.93180172 1.28976505]]\n",
      "[[0.23531137 1.99704888]\n",
      " [0.93180172 1.28976505]]\n"
     ]
    }
   ],
   "source": [
    "# Create a matrix\n",
    "matrix1 = np.array([[1, 2], [3, 4]])\n",
    "print(matrix1)\n",
    "\n",
    "matrix2 = np.random.rand(2,2)\n",
    "print(matrix2)\n",
    "\n",
    "# Matrix addition\n",
    "print(matrix1 + matrix2)\n",
    "print(np.add(matrix1, matrix2))\n",
    "\n",
    "# Matrix subtraction\n",
    "print(matrix1 - matrix2)\n",
    "print(np.subtract(matrix1, matrix2))\n",
    "\n",
    "# Matrix division\n",
    "print(matrix1 / matrix2)\n",
    "print(np.divide(matrix1, matrix2))\n",
    "\n",
    "# Matrix multiply\n",
    "print(matrix1 * matrix2)\n",
    "print(np.multiply(matrix1, matrix2))"
   ]
  },
  {
   "cell_type": "markdown",
   "id": "01f2bc3c-a859-4c41-8cb2-4a04b8d93be2",
   "metadata": {},
   "source": [
    "# IMAGE DATA IN PYTHON\n",
    "\n",
    "# BASIC OpenCV\n"
   ]
  },
  {
   "cell_type": "code",
   "execution_count": 63,
   "id": "64d764c8-bf8b-4a0d-b7ca-8a117dacd40c",
   "metadata": {},
   "outputs": [
    {
     "name": "stdout",
     "output_type": "stream",
     "text": [
      "(162, 311, 3)\n"
     ]
    },
    {
     "data": {
      "text/plain": [
       "True"
      ]
     },
     "execution_count": 63,
     "metadata": {},
     "output_type": "execute_result"
    }
   ],
   "source": [
    "# Load an image using OpenCV\n",
    "import cv2\n",
    "\n",
    "# read a grayscale image\n",
    "data = cv2.imread('download.jpg', 1)\n",
    "print(data.shape)\n"
   ]
  },
  {
   "cell_type": "code",
   "execution_count": 66,
   "id": "f786206d-b127-4447-8035-d5fb054df544",
   "metadata": {},
   "outputs": [
    {
     "data": {
      "text/plain": [
       "True"
      ]
     },
     "execution_count": 66,
     "metadata": {},
     "output_type": "execute_result"
    }
   ],
   "source": [
    "# Copy an image\n",
    "image = cv2.imread('naruto.jpg', 1)\n",
    "height, width, channel = image.shape\n",
    "\n",
    "# Create an array\n",
    "array_shape = (height, width, channel)\n",
    "copy_image = np.zeros(array_shape)\n",
    "\n",
    "# Copy\n",
    "for i in range(height):\n",
    "    for j in range(width):\n",
    "        for k in range(channel):\n",
    "            copy_image[i][j][k] = image[i][j][k]\n",
    "# Save an image from a list\n",
    "cv2.imwrite('copy.jpg', np.array(copy_image))\n",
    "    "
   ]
  },
  {
   "cell_type": "code",
   "execution_count": null,
   "id": "059283e4-86d6-4809-95a8-941b68381fbf",
   "metadata": {},
   "outputs": [],
   "source": [
    "# Extract background/foreground"
   ]
  }
 ],
 "metadata": {
  "kernelspec": {
   "display_name": "Python [conda env:base] *",
   "language": "python",
   "name": "conda-base-py"
  },
  "language_info": {
   "codemirror_mode": {
    "name": "ipython",
    "version": 3
   },
   "file_extension": ".py",
   "mimetype": "text/x-python",
   "name": "python",
   "nbconvert_exporter": "python",
   "pygments_lexer": "ipython3",
   "version": "3.12.7"
  }
 },
 "nbformat": 4,
 "nbformat_minor": 5
}
