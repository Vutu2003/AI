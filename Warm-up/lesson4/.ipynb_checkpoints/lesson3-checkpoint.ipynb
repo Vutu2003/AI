{
 "cells": [
  {
   "cell_type": "markdown",
   "id": "5238729e-629a-45fa-be26-7978149ecd31",
   "metadata": {},
   "source": [
    "# FOR LOOP IN PYTHON\n",
    "## OUTLINE\n",
    "\n",
    "1. For loop\n",
    "2. Some examples\n",
    "3. Quiz\n",
    "4. Q & A"
   ]
  },
  {
   "cell_type": "markdown",
   "id": "3154688e-864e-475e-afb7-4e211d2231aa",
   "metadata": {},
   "source": [
    "# FOR LOOP"
   ]
  },
  {
   "cell_type": "code",
   "execution_count": null,
   "id": "06b3f73a-71d8-43bf-863c-65df008aceb9",
   "metadata": {},
   "outputs": [],
   "source": [
    "# repeat 5 times\n",
    "for _ in range(5):\n",
    "    print(\"Hello\")\n",
    "# iterate a list\n",
    "fruits = ['apple', 'banana', 'melon', 'peach']\n",
    "\n",
    "for fruit in fruits:\n",
    "    print(fruit)\n",
    "\n",
    "# iterate a string\n",
    "name = 'Vu Trinh Tu'\n",
    "for char in name:\n",
    "    print(char)\n",
    "\n",
    "# iterate a dictionary\n",
    "parameters = { 'learning_rate': 0.1,\n",
    "              'optimizer': 'Adam',\n",
    "              'metric': 'Accuracy'}\n",
    "for key in parameters: \n",
    "    print(key, parameters.get(key))\n",
    "\n",
    "# iterate a tuple\n",
    "fruitss = ('apple', 'banana', 'melon')\n",
    "for fruit in fruitss: \n",
    "    print(fruit)"
   ]
  },
  {
   "cell_type": "markdown",
   "id": "c790c7c5-62da-4a8a-ac1d-8c52cc1a53e8",
   "metadata": {},
   "source": [
    "# SOME EXAMPLE\n"
   ]
  },
  {
   "cell_type": "code",
   "execution_count": 18,
   "id": "fdcd9636-3ba3-405c-9424-082a22066383",
   "metadata": {},
   "outputs": [
    {
     "name": "stdout",
     "output_type": "stream",
     "text": [
      "Estimation PI is:  3.1414926535900345\n"
     ]
    }
   ],
   "source": [
    "# PI estimation\n",
    "n = 10000\n",
    "PI = 0\n",
    "for i in range(1, n + 1):\n",
    "        PI = PI + (-1)**(i + 1)/ (2*i - 1)\n",
    "PI = PI * 4\n",
    "print(\"Estimation PI is: \", PI)"
   ]
  },
  {
   "cell_type": "markdown",
   "id": "4365d355-64e6-4b6b-8ed5-c758bdc9df0b",
   "metadata": {},
   "source": [
    "# REVIEW ON FOR LOOP AND FUNCTIONS"
   ]
  },
  {
   "cell_type": "code",
   "execution_count": 32,
   "id": "7a1538fa-f3ad-4a61-bf37-a50abff3ddfa",
   "metadata": {},
   "outputs": [
    {
     "name": "stdout",
     "output_type": "stream",
     "text": [
      "Probality of tails:  0.499\n",
      "Probality of heads:  0.501\n"
     ]
    }
   ],
   "source": [
    "# Simulation of coin tossing\n",
    "\n",
    "import random\n",
    "\n",
    "total_filips = 0\n",
    "num_tails = 0\n",
    "num_heads = 0\n",
    "\n",
    "for _ in range(1000):\n",
    "    n = random.random()\n",
    "    if n < 0.5:\n",
    "        num_tails = num_tails + 1\n",
    "    else:\n",
    "        num_heads = num_heads + 1\n",
    "    total_filips = total_filips + 1\n",
    "print(\"Probality of tails: \", num_tails/total_filips)\n",
    "print(\"Probality of heads: \", num_heads/total_filips)"
   ]
  }
 ],
 "metadata": {
  "kernelspec": {
   "display_name": "Python [conda env:base] *",
   "language": "python",
   "name": "conda-base-py"
  },
  "language_info": {
   "codemirror_mode": {
    "name": "ipython",
    "version": 3
   },
   "file_extension": ".py",
   "mimetype": "text/x-python",
   "name": "python",
   "nbconvert_exporter": "python",
   "pygments_lexer": "ipython3",
   "version": "3.12.7"
  }
 },
 "nbformat": 4,
 "nbformat_minor": 5
}
